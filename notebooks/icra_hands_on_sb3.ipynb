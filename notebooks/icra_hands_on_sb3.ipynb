{
  "cells": [
    {
      "cell_type": "markdown",
      "metadata": {
        "id": "view-in-github",
        "colab_type": "text"
      },
      "source": [
        "<a href=\"https://colab.research.google.com/github/mnjnsng/ICRA2022-Tutorial/blob/main/notebooks/icra_hands_on_sb3.ipynb\" target=\"_parent\"><img src=\"https://colab.research.google.com/assets/colab-badge.svg\" alt=\"Open In Colab\"/></a>"
      ]
    },
    {
      "cell_type": "markdown",
      "metadata": {
        "id": "hyyN-2qyK_T2"
      },
      "source": [
        "# Gym/Stable Baselines3 Getting Started - ICRA 2022\n",
        "\n",
        "Github repo: https://github.com/araffin/tools-for-robotic-rl-icra2022\n",
        "\n",
        "Stable-Baselines3: https://github.com/DLR-RM/stable-baselines3\n",
        "\n",
        "Documentation: https://stable-baselines3.readthedocs.io/en/master/\n",
        "\n",
        "SB3 Contrib: https://github.com/Stable-Baselines-Team/stable-baselines3-contrib\n",
        "\n",
        "RL Baselines3 zoo: https://github.com/DLR-RM/rl-baselines3-zoo\n",
        "\n",
        "[RL Baselines3 Zoo](https://github.com/DLR-RM/rl-baselines3-zoo) is a collection of pre-trained Reinforcement Learning agents using Stable-Baselines3.\n",
        "\n",
        "It also provides basic scripts for training, evaluating agents, tuning hyperparameters and recording videos.\n",
        "\n",
        "\n",
        "## Introduction\n",
        "\n",
        "In this notebook, you will learn the basics for using stable baselines3 library: how to create a RL model, train it and evaluate it. Because all algorithms share the same interface, we will see how simple it is to switch from one algorithm to another.\n",
        "You will also learn how to define a gym wrapper to customise the training.\n",
        "\n",
        "\n",
        "## Install Dependencies and Stable Baselines3 Using Pip\n",
        "\n",
        "List of full dependencies can be found in the [README](https://github.com/DLR-RM/stable-baselines3).\n",
        "\n",
        "\n",
        "```\n",
        "pip install stable-baselines3[extra]\n",
        "```"
      ]
    },
    {
      "cell_type": "code",
      "execution_count": 4,
      "metadata": {
        "id": "gWskDE2c9WoN",
        "vscode": {
          "languageId": "python"
        },
        "colab": {
          "base_uri": "https://localhost:8080/"
        },
        "outputId": "6483dc7e-8ebd-4c33-f7fa-293e6735ca5e"
      },
      "outputs": [
        {
          "output_type": "stream",
          "name": "stdout",
          "text": [
            "Reading package lists... Done\n",
            "Building dependency tree       \n",
            "Reading state information... Done\n",
            "freeglut3-dev is already the newest version (2.8.1-3).\n",
            "ffmpeg is already the newest version (7:3.4.8-0ubuntu0.2).\n",
            "xvfb is already the newest version (2:1.19.6-1ubuntu4.10).\n",
            "The following package was automatically installed and is no longer required:\n",
            "  libnvidia-common-460\n",
            "Use 'apt autoremove' to remove it.\n",
            "0 upgraded, 0 newly installed, 0 to remove and 42 not upgraded.\n"
          ]
        }
      ],
      "source": [
        "!apt-get install ffmpeg freeglut3-dev xvfb  # For visualization"
      ]
    },
    {
      "cell_type": "code",
      "execution_count": 5,
      "metadata": {
        "id": "hYdv2ygjLaFL",
        "vscode": {
          "languageId": "python"
        },
        "colab": {
          "base_uri": "https://localhost:8080/"
        },
        "outputId": "5c2cabbc-d419-4b11-dfcf-9283ea4b6431"
      },
      "outputs": [
        {
          "output_type": "stream",
          "name": "stdout",
          "text": [
            "Requirement already satisfied: stable-baselines3[extra] in /usr/local/lib/python3.7/dist-packages (1.5.0)\n",
            "Requirement already satisfied: matplotlib in /usr/local/lib/python3.7/dist-packages (from stable-baselines3[extra]) (3.2.2)\n",
            "Requirement already satisfied: pandas in /usr/local/lib/python3.7/dist-packages (from stable-baselines3[extra]) (1.3.5)\n",
            "Requirement already satisfied: gym==0.21 in /usr/local/lib/python3.7/dist-packages (from stable-baselines3[extra]) (0.21.0)\n",
            "Requirement already satisfied: numpy in /usr/local/lib/python3.7/dist-packages (from stable-baselines3[extra]) (1.21.6)\n",
            "Requirement already satisfied: torch>=1.8.1 in /usr/local/lib/python3.7/dist-packages (from stable-baselines3[extra]) (1.11.0+cu113)\n",
            "Requirement already satisfied: cloudpickle in /usr/local/lib/python3.7/dist-packages (from stable-baselines3[extra]) (1.3.0)\n",
            "Requirement already satisfied: tensorboard>=2.2.0 in /usr/local/lib/python3.7/dist-packages (from stable-baselines3[extra]) (2.8.0)\n",
            "Requirement already satisfied: psutil in /usr/local/lib/python3.7/dist-packages (from stable-baselines3[extra]) (5.4.8)\n",
            "Requirement already satisfied: autorom[accept-rom-license]~=0.4.2 in /usr/local/lib/python3.7/dist-packages (from stable-baselines3[extra]) (0.4.2)\n",
            "Requirement already satisfied: opencv-python in /usr/local/lib/python3.7/dist-packages (from stable-baselines3[extra]) (4.1.2.30)\n",
            "Requirement already satisfied: ale-py~=0.7.4 in /usr/local/lib/python3.7/dist-packages (from stable-baselines3[extra]) (0.7.5)\n",
            "Requirement already satisfied: pillow in /usr/local/lib/python3.7/dist-packages (from stable-baselines3[extra]) (7.1.2)\n",
            "Requirement already satisfied: importlib-metadata>=4.8.1 in /usr/local/lib/python3.7/dist-packages (from gym==0.21->stable-baselines3[extra]) (4.11.3)\n",
            "Requirement already satisfied: importlib-resources in /usr/local/lib/python3.7/dist-packages (from ale-py~=0.7.4->stable-baselines3[extra]) (5.7.1)\n",
            "Requirement already satisfied: tqdm in /usr/local/lib/python3.7/dist-packages (from autorom[accept-rom-license]~=0.4.2->stable-baselines3[extra]) (4.64.0)\n",
            "Requirement already satisfied: requests in /usr/local/lib/python3.7/dist-packages (from autorom[accept-rom-license]~=0.4.2->stable-baselines3[extra]) (2.23.0)\n",
            "Requirement already satisfied: click in /usr/local/lib/python3.7/dist-packages (from autorom[accept-rom-license]~=0.4.2->stable-baselines3[extra]) (7.1.2)\n",
            "Requirement already satisfied: AutoROM.accept-rom-license in /usr/local/lib/python3.7/dist-packages (from autorom[accept-rom-license]~=0.4.2->stable-baselines3[extra]) (0.4.2)\n",
            "Requirement already satisfied: typing-extensions>=3.6.4 in /usr/local/lib/python3.7/dist-packages (from importlib-metadata>=4.8.1->gym==0.21->stable-baselines3[extra]) (4.2.0)\n",
            "Requirement already satisfied: zipp>=0.5 in /usr/local/lib/python3.7/dist-packages (from importlib-metadata>=4.8.1->gym==0.21->stable-baselines3[extra]) (3.8.0)\n",
            "Requirement already satisfied: grpcio>=1.24.3 in /usr/local/lib/python3.7/dist-packages (from tensorboard>=2.2.0->stable-baselines3[extra]) (1.46.1)\n",
            "Requirement already satisfied: protobuf>=3.6.0 in /usr/local/lib/python3.7/dist-packages (from tensorboard>=2.2.0->stable-baselines3[extra]) (3.17.3)\n",
            "Requirement already satisfied: setuptools>=41.0.0 in /usr/local/lib/python3.7/dist-packages (from tensorboard>=2.2.0->stable-baselines3[extra]) (57.4.0)\n",
            "Requirement already satisfied: tensorboard-data-server<0.7.0,>=0.6.0 in /usr/local/lib/python3.7/dist-packages (from tensorboard>=2.2.0->stable-baselines3[extra]) (0.6.1)\n",
            "Requirement already satisfied: markdown>=2.6.8 in /usr/local/lib/python3.7/dist-packages (from tensorboard>=2.2.0->stable-baselines3[extra]) (3.3.7)\n",
            "Requirement already satisfied: werkzeug>=0.11.15 in /usr/local/lib/python3.7/dist-packages (from tensorboard>=2.2.0->stable-baselines3[extra]) (1.0.1)\n",
            "Requirement already satisfied: google-auth-oauthlib<0.5,>=0.4.1 in /usr/local/lib/python3.7/dist-packages (from tensorboard>=2.2.0->stable-baselines3[extra]) (0.4.6)\n",
            "Requirement already satisfied: wheel>=0.26 in /usr/local/lib/python3.7/dist-packages (from tensorboard>=2.2.0->stable-baselines3[extra]) (0.37.1)\n",
            "Requirement already satisfied: tensorboard-plugin-wit>=1.6.0 in /usr/local/lib/python3.7/dist-packages (from tensorboard>=2.2.0->stable-baselines3[extra]) (1.8.1)\n",
            "Requirement already satisfied: absl-py>=0.4 in /usr/local/lib/python3.7/dist-packages (from tensorboard>=2.2.0->stable-baselines3[extra]) (1.0.0)\n",
            "Requirement already satisfied: google-auth<3,>=1.6.3 in /usr/local/lib/python3.7/dist-packages (from tensorboard>=2.2.0->stable-baselines3[extra]) (1.35.0)\n",
            "Requirement already satisfied: six in /usr/local/lib/python3.7/dist-packages (from absl-py>=0.4->tensorboard>=2.2.0->stable-baselines3[extra]) (1.15.0)\n",
            "Requirement already satisfied: pyasn1-modules>=0.2.1 in /usr/local/lib/python3.7/dist-packages (from google-auth<3,>=1.6.3->tensorboard>=2.2.0->stable-baselines3[extra]) (0.2.8)\n",
            "Requirement already satisfied: rsa<5,>=3.1.4 in /usr/local/lib/python3.7/dist-packages (from google-auth<3,>=1.6.3->tensorboard>=2.2.0->stable-baselines3[extra]) (4.8)\n",
            "Requirement already satisfied: cachetools<5.0,>=2.0.0 in /usr/local/lib/python3.7/dist-packages (from google-auth<3,>=1.6.3->tensorboard>=2.2.0->stable-baselines3[extra]) (4.2.4)\n",
            "Requirement already satisfied: requests-oauthlib>=0.7.0 in /usr/local/lib/python3.7/dist-packages (from google-auth-oauthlib<0.5,>=0.4.1->tensorboard>=2.2.0->stable-baselines3[extra]) (1.3.1)\n",
            "Requirement already satisfied: pyasn1<0.5.0,>=0.4.6 in /usr/local/lib/python3.7/dist-packages (from pyasn1-modules>=0.2.1->google-auth<3,>=1.6.3->tensorboard>=2.2.0->stable-baselines3[extra]) (0.4.8)\n",
            "Requirement already satisfied: certifi>=2017.4.17 in /usr/local/lib/python3.7/dist-packages (from requests->autorom[accept-rom-license]~=0.4.2->stable-baselines3[extra]) (2021.10.8)\n",
            "Requirement already satisfied: urllib3!=1.25.0,!=1.25.1,<1.26,>=1.21.1 in /usr/local/lib/python3.7/dist-packages (from requests->autorom[accept-rom-license]~=0.4.2->stable-baselines3[extra]) (1.24.3)\n",
            "Requirement already satisfied: idna<3,>=2.5 in /usr/local/lib/python3.7/dist-packages (from requests->autorom[accept-rom-license]~=0.4.2->stable-baselines3[extra]) (2.10)\n",
            "Requirement already satisfied: chardet<4,>=3.0.2 in /usr/local/lib/python3.7/dist-packages (from requests->autorom[accept-rom-license]~=0.4.2->stable-baselines3[extra]) (3.0.4)\n",
            "Requirement already satisfied: oauthlib>=3.0.0 in /usr/local/lib/python3.7/dist-packages (from requests-oauthlib>=0.7.0->google-auth-oauthlib<0.5,>=0.4.1->tensorboard>=2.2.0->stable-baselines3[extra]) (3.2.0)\n",
            "Requirement already satisfied: pyparsing!=2.0.4,!=2.1.2,!=2.1.6,>=2.0.1 in /usr/local/lib/python3.7/dist-packages (from matplotlib->stable-baselines3[extra]) (3.0.9)\n",
            "Requirement already satisfied: python-dateutil>=2.1 in /usr/local/lib/python3.7/dist-packages (from matplotlib->stable-baselines3[extra]) (2.8.2)\n",
            "Requirement already satisfied: cycler>=0.10 in /usr/local/lib/python3.7/dist-packages (from matplotlib->stable-baselines3[extra]) (0.11.0)\n",
            "Requirement already satisfied: kiwisolver>=1.0.1 in /usr/local/lib/python3.7/dist-packages (from matplotlib->stable-baselines3[extra]) (1.4.2)\n",
            "Requirement already satisfied: pytz>=2017.3 in /usr/local/lib/python3.7/dist-packages (from pandas->stable-baselines3[extra]) (2022.1)\n"
          ]
        }
      ],
      "source": [
        "!pip install stable-baselines3[extra]"
      ]
    },
    {
      "cell_type": "code",
      "execution_count": 6,
      "metadata": {
        "id": "oexj67yWN5_k",
        "vscode": {
          "languageId": "python"
        },
        "colab": {
          "base_uri": "https://localhost:8080/"
        },
        "outputId": "ea785870-2858-4b3a-f26d-cb38e5f36d2b"
      },
      "outputs": [
        {
          "output_type": "stream",
          "name": "stdout",
          "text": [
            "Requirement already satisfied: sb3-contrib in /usr/local/lib/python3.7/dist-packages (1.5.0)\n",
            "Requirement already satisfied: stable-baselines3>=1.5.0 in /usr/local/lib/python3.7/dist-packages (from sb3-contrib) (1.5.0)\n",
            "Requirement already satisfied: matplotlib in /usr/local/lib/python3.7/dist-packages (from stable-baselines3>=1.5.0->sb3-contrib) (3.2.2)\n",
            "Requirement already satisfied: gym==0.21 in /usr/local/lib/python3.7/dist-packages (from stable-baselines3>=1.5.0->sb3-contrib) (0.21.0)\n",
            "Requirement already satisfied: numpy in /usr/local/lib/python3.7/dist-packages (from stable-baselines3>=1.5.0->sb3-contrib) (1.21.6)\n",
            "Requirement already satisfied: cloudpickle in /usr/local/lib/python3.7/dist-packages (from stable-baselines3>=1.5.0->sb3-contrib) (1.3.0)\n",
            "Requirement already satisfied: pandas in /usr/local/lib/python3.7/dist-packages (from stable-baselines3>=1.5.0->sb3-contrib) (1.3.5)\n",
            "Requirement already satisfied: torch>=1.8.1 in /usr/local/lib/python3.7/dist-packages (from stable-baselines3>=1.5.0->sb3-contrib) (1.11.0+cu113)\n",
            "Requirement already satisfied: importlib-metadata>=4.8.1 in /usr/local/lib/python3.7/dist-packages (from gym==0.21->stable-baselines3>=1.5.0->sb3-contrib) (4.11.3)\n",
            "Requirement already satisfied: typing-extensions>=3.6.4 in /usr/local/lib/python3.7/dist-packages (from importlib-metadata>=4.8.1->gym==0.21->stable-baselines3>=1.5.0->sb3-contrib) (4.2.0)\n",
            "Requirement already satisfied: zipp>=0.5 in /usr/local/lib/python3.7/dist-packages (from importlib-metadata>=4.8.1->gym==0.21->stable-baselines3>=1.5.0->sb3-contrib) (3.8.0)\n",
            "Requirement already satisfied: kiwisolver>=1.0.1 in /usr/local/lib/python3.7/dist-packages (from matplotlib->stable-baselines3>=1.5.0->sb3-contrib) (1.4.2)\n",
            "Requirement already satisfied: cycler>=0.10 in /usr/local/lib/python3.7/dist-packages (from matplotlib->stable-baselines3>=1.5.0->sb3-contrib) (0.11.0)\n",
            "Requirement already satisfied: python-dateutil>=2.1 in /usr/local/lib/python3.7/dist-packages (from matplotlib->stable-baselines3>=1.5.0->sb3-contrib) (2.8.2)\n",
            "Requirement already satisfied: pyparsing!=2.0.4,!=2.1.2,!=2.1.6,>=2.0.1 in /usr/local/lib/python3.7/dist-packages (from matplotlib->stable-baselines3>=1.5.0->sb3-contrib) (3.0.9)\n",
            "Requirement already satisfied: six>=1.5 in /usr/local/lib/python3.7/dist-packages (from python-dateutil>=2.1->matplotlib->stable-baselines3>=1.5.0->sb3-contrib) (1.15.0)\n",
            "Requirement already satisfied: pytz>=2017.3 in /usr/local/lib/python3.7/dist-packages (from pandas->stable-baselines3>=1.5.0->sb3-contrib) (2022.1)\n"
          ]
        }
      ],
      "source": [
        "# Optional: install SB3 contrib to have access to additional algorithms\n",
        "!pip install sb3-contrib"
      ]
    },
    {
      "cell_type": "markdown",
      "metadata": {
        "id": "-khNkrgcI6Z1"
      },
      "source": [
        "# Part I: Getting Started"
      ]
    },
    {
      "cell_type": "markdown",
      "metadata": {
        "id": "rzevZcgmJmhi"
      },
      "source": [
        "## First steps with the Gym interface\n",
        "\n",
        "An environment that follows the [gym interface](https://stable-baselines3.readthedocs.io/en/master/guide/custom_env.html) is quite simple to use.\n",
        "It provides to this user mainly three methods:\n",
        "- `reset()` called at the beginning of an episode, it returns an observation\n",
        "- `step(action)` called to take an action with the environment, it returns the next observation, the immediate reward, whether the episode is over and additional information\n",
        "- (Optional) `render(method='human')` which allow to visualize the agent in action. Note that graphical interface does not work on google colab, so we cannot use it directly (we have to rely on `method='rbg_array'` to retrieve an image of the scene\n",
        "\n",
        "Under the hood, it also contains two useful properties:\n",
        "- `observation_space` which one of the gym spaces (`Discrete`, `Box`, ...) and describe the type and shape of the observation\n",
        "- `action_space` which is also a gym space object that describes the action space, so the type of action that can be taken\n",
        "\n",
        "The best way to learn about gym spaces is to look at the [source code](https://github.com/openai/gym/tree/master/gym/spaces), but you need to know at least the main ones:\n",
        "- `gym.spaces.Box`: A (possibly unbounded) box in $R^n$. Specifically, a Box represents the Cartesian product of n closed intervals. Each interval has the form of one of [a, b], (-oo, b], [a, oo), or (-oo, oo). Example: A 1D-Vector or an image observation can be described with the Box space.\n",
        "```python\n",
        "# Example for using image as input:\n",
        "observation_space = spaces.Box(low=0, high=255, shape=(HEIGHT, WIDTH, N_CHANNELS), dtype=np.uint8)\n",
        "```                                       \n",
        "\n",
        "- `gym.spaces.Discrete`: A discrete space in $\\{ 0, 1, \\dots, n-1 \\}$\n",
        "  Example: if you have two actions (\"left\" and \"right\") you can represent your action space using `Discrete(2)`, the first action will be 0 and the second 1.\n",
        "\n",
        "\n",
        "\n",
        "[Documentation on custom env](https://stable-baselines3.readthedocs.io/en/master/guide/custom_env.html)\n",
        "\n",
        "Below you can find an example of a custom environment:"
      ]
    },
    {
      "cell_type": "code",
      "execution_count": 7,
      "metadata": {
        "id": "owrHOGhlMGLE",
        "vscode": {
          "languageId": "python"
        }
      },
      "outputs": [],
      "source": [
        "from typing import Any, Callable, Dict, List, NamedTuple, Tuple, Union\n",
        "\n",
        "import gym\n",
        "import numpy as np\n",
        "\n",
        "from stable_baselines3.common.env_checker import check_env\n",
        "\n",
        "GymObs = Union[Tuple, Dict, np.ndarray, int]\n",
        "\n",
        "class CustomEnv(gym.Env):\n",
        "  \"\"\"\n",
        "  Minimal custom environment to demonstrate the Gym interface.\n",
        "  \"\"\"\n",
        "  def __init__(self):\n",
        "    super().__init__()\n",
        "    self.observation_space = gym.spaces.Box(low=-np.inf, high=np.inf, shape=(14,))\n",
        "    self.action_space = gym.spaces.Box(low=-1, high=1, shape=(6,))\n",
        "\n",
        "  def reset(self) -> GymObs:\n",
        "    \"\"\"\n",
        "    Called at the beginning of an episode.\n",
        "    :return: the first observation of the episode\n",
        "    \"\"\"\n",
        "    return self.observation_space.sample()\n",
        "\n",
        "  def step(self, action: Union[int, np.ndarray]) -> Tuple[GymObs, float, bool, Dict]:\n",
        "    \"\"\"\n",
        "    Step into the environment.\n",
        "    :return: A tuple containing the new observation, the reward signal, \n",
        "      whether the episode is over and additional informations.\n",
        "    \"\"\"\n",
        "    obs = self.observation_space.sample()\n",
        "    reward = 1.0\n",
        "    done = False\n",
        "    # Whether the termination was due to timeout or not\n",
        "    info = {\"TimeLimit.truncated\": False}\n",
        "    return obs, reward, done, info\n",
        "\n",
        "env = CustomEnv()\n",
        "# Check your custom environment\n",
        "# this will print warnings and throw errors if needed\n",
        "check_env(env)"
      ]
    },
    {
      "cell_type": "markdown",
      "metadata": {
        "id": "FtY8FhliLsGm"
      },
      "source": [
        "## Imports"
      ]
    },
    {
      "cell_type": "markdown",
      "metadata": {
        "id": "gcX8hEcaUpR0"
      },
      "source": [
        "Stable-Baselines3 works on environments that follow the [gym interface](https://stable-baselines3.readthedocs.io/en/master/guide/custom_env.html).\n",
        "You can find a list of available environment [here](https://www.gymlibrary.ml/).\n",
        "\n",
        "It is also recommended to check the [source code](https://github.com/openai/gym) to learn more about the observation and action space of each env, as gym document is still a work in progress.\n",
        "Not all algorithms can work with all action spaces, you can find more in this [recap table](https://stable-baselines3.readthedocs.io/en/master/guide/algos.html)"
      ]
    },
    {
      "cell_type": "code",
      "execution_count": 8,
      "metadata": {
        "id": "BIedd7Pz9sOs",
        "vscode": {
          "languageId": "python"
        }
      },
      "outputs": [],
      "source": [
        "import gym\n",
        "import numpy as np"
      ]
    },
    {
      "cell_type": "markdown",
      "metadata": {
        "id": "Ae32CtgzTG3R"
      },
      "source": [
        "The first thing you need to import is the RL model, check the documentation to know what you can use on which problem"
      ]
    },
    {
      "cell_type": "code",
      "execution_count": 9,
      "metadata": {
        "id": "R7tKaBFrTR0a",
        "vscode": {
          "languageId": "python"
        }
      },
      "outputs": [],
      "source": [
        "from stable_baselines3 import PPO, A2C, SAC, TD3, DQN"
      ]
    },
    {
      "cell_type": "code",
      "execution_count": 10,
      "metadata": {
        "id": "EcsXmYRMON9W",
        "vscode": {
          "languageId": "python"
        }
      },
      "outputs": [],
      "source": [
        "# Algorithms from the contrib repo\n",
        "# https://github.com/Stable-Baselines-Team/stable-baselines3-contrib\n",
        "from sb3_contrib import QRDQN, TQC"
      ]
    },
    {
      "cell_type": "markdown",
      "metadata": {
        "id": "-0_8OQbOTTNT"
      },
      "source": [
        "The next thing you need to import is the policy class that will be used to create the networks (for the policy/value functions).\n",
        "This step is optional as you can directly use strings in the constructor: \n",
        "\n",
        "```PPO(\"MlpPolicy\", env)``` instead of ```PPO(MlpPolicy, env)```\n",
        "\n",
        "Note that some algorithms like `SAC` have their own `MlpPolicy`, that's why using string for the policy is the recommended option."
      ]
    },
    {
      "cell_type": "code",
      "execution_count": 11,
      "metadata": {
        "id": "ROUJr675TT01",
        "vscode": {
          "languageId": "python"
        }
      },
      "outputs": [],
      "source": [
        "from stable_baselines3.ppo.policies import MlpPolicy"
      ]
    },
    {
      "cell_type": "markdown",
      "metadata": {
        "id": "RapkYvTXL7Cd"
      },
      "source": [
        "## Create the Gym env and instantiate the agent\n",
        "\n",
        "For this example, we will use Pendulum environment, a classic control problem.\n",
        "\n",
        "\"The inverted pendulum swingup problem is based on the classic problem in control theory. The system consists of a pendulum attached at one end to a fixed point, and the other end being free. The pendulum starts in a random position and the goal is to apply torque on the free end to swing it into an upright position, with its center of gravity right above the fixed point.\"\n",
        "\n",
        "Pendulum environment: [https://www.gymlibrary.ml/environments/classic_control/pendulum/](https://www.gymlibrary.ml/environments/classic_control/pendulum/)\n",
        "\n",
        "\n",
        "![Pendulum-v1](https://huggingface.co/sb3/ppo-Pendulum-v1/resolve/main/pendulum.gif)\n",
        "\n",
        "We chose the MlpPolicy because the observation of the Pendulum task is a feature vector, not images.\n",
        "\n",
        "The type of action to use (discrete/continuous) will be automatically deduced from the environment action space\n",
        "\n",
        "Here we are using the [Proximal Policy Optimization](https://stable-baselines3.readthedocs.io/en/master/modules/ppo.html) algorithm, which is an Actor-Critic method: it uses a value function to improve the policy gradient descent (by reducing the variance).\n",
        "\n",
        "It combines ideas from [A2C](https://stable-baselines3.readthedocs.io/en/master/modules/a2c.html) (having multiple workers and using an entropy bonus for exploration) and [TRPO](https://sb3-contrib.readthedocs.io/en/master/modules/trpo.html) (it uses a trust region to improve stability and avoid catastrophic drops in performance).\n",
        "\n",
        "PPO is an on-policy algorithm, which means that the trajectories used to update the networks must be collected using the latest policy.\n",
        "It is usually less sample efficient than off-policy alorithms like [DQN](https://stable-baselines3.readthedocs.io/en/master/modules/dqn.html), [SAC](https://stable-baselines3.readthedocs.io/en/master/modules/sac.html) or [TD3](https://stable-baselines3.readthedocs.io/en/master/modules/td3.html), but is much faster regarding wall-clock time.\n"
      ]
    },
    {
      "cell_type": "code",
      "execution_count": 12,
      "metadata": {
        "id": "pUWGZp3i9wyf",
        "vscode": {
          "languageId": "python"
        },
        "colab": {
          "base_uri": "https://localhost:8080/"
        },
        "outputId": "7e17c8d5-6f9e-4bb4-d02c-f3886fc98298"
      },
      "outputs": [
        {
          "output_type": "stream",
          "name": "stdout",
          "text": [
            "Using cpu device\n",
            "Wrapping the env with a `Monitor` wrapper\n",
            "Wrapping the env in a DummyVecEnv.\n"
          ]
        }
      ],
      "source": [
        "# Create the gym Env\n",
        "env_id = \"Pendulum-v1\"\n",
        "env = gym.make(env_id)\n",
        "\n",
        "# Create the RL agent\n",
        "# Here we are using tuned hyperparameters\n",
        "model = PPO(\n",
        "    \"MlpPolicy\",\n",
        "    env,\n",
        "    gamma=0.98,\n",
        "    use_sde=True,\n",
        "    sde_sample_freq=4,\n",
        "    learning_rate=1e-3,\n",
        "    verbose=1,\n",
        ")"
      ]
    },
    {
      "cell_type": "markdown",
      "metadata": {
        "id": "W0K2YzpGDwQ4"
      },
      "source": [
        "### Using the model to predict actions"
      ]
    },
    {
      "cell_type": "code",
      "execution_count": 13,
      "metadata": {
        "id": "JRfb_f7uD-H9",
        "vscode": {
          "languageId": "python"
        },
        "colab": {
          "base_uri": "https://localhost:8080/"
        },
        "outputId": "06754e79-2408-43f7-aba4-ace78e699ce5"
      },
      "outputs": [
        {
          "output_type": "stream",
          "name": "stdout",
          "text": [
            "Box([-1. -1. -8.], [1. 1. 8.], (3,), float32)\n",
            "Box([-2.], [2.], (1,), float32)\n"
          ]
        }
      ],
      "source": [
        "print(env.observation_space)\n",
        "print(env.action_space)"
      ]
    },
    {
      "cell_type": "code",
      "execution_count": 14,
      "metadata": {
        "id": "rF_xsDEADvv_",
        "vscode": {
          "languageId": "python"
        }
      },
      "outputs": [],
      "source": [
        "# Retrieve first observation\n",
        "obs = env.reset()"
      ]
    },
    {
      "cell_type": "code",
      "execution_count": 15,
      "metadata": {
        "id": "ZgrRoM23EU9Z",
        "vscode": {
          "languageId": "python"
        }
      },
      "outputs": [],
      "source": [
        "# Predict the action to take given the observation\n",
        "action, _ = model.predict(obs, deterministic = True)"
      ]
    },
    {
      "cell_type": "code",
      "execution_count": 16,
      "metadata": {
        "id": "B1wRSvPrEjUa",
        "vscode": {
          "languageId": "python"
        },
        "colab": {
          "base_uri": "https://localhost:8080/"
        },
        "outputId": "3feb1c83-8d50-4f52-84cf-de43a26c0e97"
      },
      "outputs": [
        {
          "output_type": "stream",
          "name": "stdout",
          "text": [
            "[-0.00323111]\n"
          ]
        }
      ],
      "source": [
        "# We are using continuous actions, therefore `action` is a numpy array\n",
        "assert env.action_space.contains(action)\n",
        "\n",
        "print(action)"
      ]
    },
    {
      "cell_type": "markdown",
      "metadata": {
        "id": "mZtEtKqKEvFC"
      },
      "source": [
        "Step in the environment"
      ]
    },
    {
      "cell_type": "code",
      "execution_count": 17,
      "metadata": {
        "id": "BmJ-yv5MEllY",
        "vscode": {
          "languageId": "python"
        }
      },
      "outputs": [],
      "source": [
        "obs, reward, done, info = env.step(action)"
      ]
    },
    {
      "cell_type": "code",
      "execution_count": 18,
      "metadata": {
        "id": "VTNOOlOdE1lH",
        "vscode": {
          "languageId": "python"
        },
        "colab": {
          "base_uri": "https://localhost:8080/"
        },
        "outputId": "aef4ee87-babd-4cdc-d948-30b381061b30"
      },
      "outputs": [
        {
          "output_type": "stream",
          "name": "stdout",
          "text": [
            "obs_shape=(3,), reward=-1.5238703747703337, done? False\n"
          ]
        }
      ],
      "source": [
        "print(f\"obs_shape={obs.shape}, reward={reward}, done? {done}\")"
      ]
    },
    {
      "cell_type": "code",
      "execution_count": null,
      "metadata": {
        "id": "2Dd6hT873ImE",
        "vscode": {
          "languageId": "python"
        }
      },
      "outputs": [],
      "source": [
        "# Reset the env at the end of an episode"
      ]
    },
    {
      "cell_type": "markdown",
      "metadata": {
        "id": "4iSeXppUFNLg"
      },
      "source": [
        "### Exercise (10 minutes): write the function to evaluate the agent\n",
        "\n",
        "This function will be used to evaluate the performance of an RL agent.\n",
        "Thanks to Stable Baselines3 interface, it will work with any SB3 algorithms and any Gym environment.\n",
        "\n",
        "See docstring of the function for what is expected as input/output."
      ]
    },
    {
      "cell_type": "code",
      "execution_count": 33,
      "metadata": {
        "id": "Xf7Ktha2FE3B",
        "vscode": {
          "languageId": "python"
        }
      },
      "outputs": [],
      "source": [
        "from stable_baselines3.common.base_class import BaseAlgorithm\n",
        "\n",
        "\n",
        "def evaluate(\n",
        "    model: BaseAlgorithm,\n",
        "    env: gym.Env,\n",
        "    n_eval_episodes: int = 100,\n",
        "    deterministic: bool = False,\n",
        ") -> float:\n",
        "    \"\"\"\n",
        "    Evaluate an RL agent for `n_eval_episodes`.\n",
        "\n",
        "    :param model: the RL Agent\n",
        "    :param env: the gym Environment\n",
        "    :param n_eval_episodes: number of episodes to evaluate it\n",
        "    :param deterministic: Whether to use deterministic or stochastic actions\n",
        "    :return: Mean episodic reward for the last `n_eval_episodes`\n",
        "     (Mean over episodes of the cumulative episodic reward)\n",
        "    \"\"\"\n",
        "    ### YOUR CODE HERE\n",
        "    # TODO: run `n_eval_episodes` episodes in the Gym env\n",
        "    episode_cumulative_reward = []\n",
        "    for _ in range(n_eval_episodes):\n",
        "      cum_reward = 0\n",
        "      obs = env.reset()\n",
        "      done = False\n",
        "      while not done:\n",
        "        action, _ = model.predict(obs, deterministic = deterministic)\n",
        "        obs, reward, done, info = env.step(action)\n",
        "        cum_reward += reward\n",
        "        if done:\n",
        "          episode_cumulative_reward.append(cum_reward)\n",
        "    mean_episode_reward = np.mean(episode_cumulative_reward)\n",
        "    std_reward = np.std(episode_cumulative_reward)\n",
        "    print(str(mean_episode_reward) + \"+/-\" + str(std_reward))\n",
        "    # using the RL agent and keep track of the total reward\n",
        "    # collected for each episode (aka cumulative reward or episode return).\n",
        "    # Finally, compute the mean and print it\n",
        "\n",
        "    ### END OF YOUR CODE\n",
        "    return mean_episode_reward"
      ]
    },
    {
      "cell_type": "markdown",
      "metadata": {
        "id": "y3SahgtZH2TX"
      },
      "source": [
        "Let's evaluate the un-trained agent, this should be a random agent."
      ]
    },
    {
      "cell_type": "code",
      "execution_count": 34,
      "metadata": {
        "colab": {
          "base_uri": "https://localhost:8080/"
        },
        "id": "8XGmJK4oHUeT",
        "outputId": "84b883e8-9bbb-4bb2-c185-b7322c788587",
        "vscode": {
          "languageId": "python"
        }
      },
      "outputs": [
        {
          "output_type": "stream",
          "name": "stdout",
          "text": [
            "-1632.8612504395483+/-34.37070989823501\n"
          ]
        }
      ],
      "source": [
        "# Random Agent, before training\n",
        "mean_reward_before_train = evaluate(model, env, n_eval_episodes=20, deterministic=False)"
      ]
    },
    {
      "cell_type": "markdown",
      "metadata": {
        "id": "QjjPxrwkYJ2i"
      },
      "source": [
        "Stable-Baselines already provides you with that helper (the actual implementation is a little more advanced):"
      ]
    },
    {
      "cell_type": "code",
      "execution_count": 35,
      "metadata": {
        "id": "8z6K9YImYJEx",
        "vscode": {
          "languageId": "python"
        }
      },
      "outputs": [],
      "source": [
        "from stable_baselines3.common.evaluation import evaluate_policy\n",
        "from stable_baselines3.common.monitor import Monitor"
      ]
    },
    {
      "cell_type": "code",
      "execution_count": 36,
      "metadata": {
        "id": "3lHSorUyH8I8",
        "vscode": {
          "languageId": "python"
        }
      },
      "outputs": [],
      "source": [
        "# The Monitor wrapper allows to keep track of the training reward and other infos (useful for plotting)\n",
        "env = Monitor(env)"
      ]
    },
    {
      "cell_type": "code",
      "execution_count": 37,
      "metadata": {
        "id": "4oPTHjxyZSOL",
        "vscode": {
          "languageId": "python"
        },
        "colab": {
          "base_uri": "https://localhost:8080/"
        },
        "outputId": "00c844a6-f48f-4aa3-af5f-25f5d2456615"
      },
      "outputs": [
        {
          "output_type": "stream",
          "name": "stdout",
          "text": [
            "mean_reward:-1367.55 +/- 291.05\n"
          ]
        }
      ],
      "source": [
        "# Seed to compare to previous implementation\n",
        "# env.reset(seed=42) with gym 0.23\n",
        "env.seed(42)\n",
        "\n",
        "mean_reward, std_reward = evaluate_policy(model, env, n_eval_episodes=20, deterministic=True)\n",
        "\n",
        "print(f\"mean_reward:{mean_reward:.2f} +/- {std_reward:.2f}\")"
      ]
    },
    {
      "cell_type": "markdown",
      "metadata": {
        "id": "r5UoXTZPNdFE"
      },
      "source": [
        "## Train the agent and evaluate it"
      ]
    },
    {
      "cell_type": "code",
      "execution_count": 38,
      "metadata": {
        "id": "e4cfSXIB-pTF",
        "vscode": {
          "languageId": "python"
        },
        "colab": {
          "base_uri": "https://localhost:8080/"
        },
        "outputId": "523d57a8-e629-4b36-bdfc-75804eb80ce7"
      },
      "outputs": [
        {
          "output_type": "stream",
          "name": "stdout",
          "text": [
            "----------------------------------\n",
            "| rollout/           |           |\n",
            "|    ep_len_mean     | 200       |\n",
            "|    ep_rew_mean     | -1.21e+03 |\n",
            "| time/              |           |\n",
            "|    fps             | 1117      |\n",
            "|    iterations      | 1         |\n",
            "|    time_elapsed    | 1         |\n",
            "|    total_timesteps | 2048      |\n",
            "----------------------------------\n",
            "-----------------------------------------\n",
            "| rollout/                |             |\n",
            "|    ep_len_mean          | 200         |\n",
            "|    ep_rew_mean          | -1.25e+03   |\n",
            "| time/                   |             |\n",
            "|    fps                  | 855         |\n",
            "|    iterations           | 2           |\n",
            "|    time_elapsed         | 4           |\n",
            "|    total_timesteps      | 4096        |\n",
            "| train/                  |             |\n",
            "|    approx_kl            | 0.008717241 |\n",
            "|    clip_fraction        | 0.0931      |\n",
            "|    clip_range           | 0.2         |\n",
            "|    entropy_loss         | -2.71       |\n",
            "|    explained_variance   | -0.000285   |\n",
            "|    learning_rate        | 0.001       |\n",
            "|    loss                 | 1.87e+03    |\n",
            "|    n_updates            | 10          |\n",
            "|    policy_gradient_loss | -0.0144     |\n",
            "|    std                  | 1.01        |\n",
            "|    value_loss           | 5.41e+03    |\n",
            "-----------------------------------------\n",
            "------------------------------------------\n",
            "| rollout/                |              |\n",
            "|    ep_len_mean          | 200          |\n",
            "|    ep_rew_mean          | -1.25e+03    |\n",
            "| time/                   |              |\n",
            "|    fps                  | 797          |\n",
            "|    iterations           | 3            |\n",
            "|    time_elapsed         | 7            |\n",
            "|    total_timesteps      | 6144         |\n",
            "| train/                  |              |\n",
            "|    approx_kl            | 0.0039716996 |\n",
            "|    clip_fraction        | 0.0104       |\n",
            "|    clip_range           | 0.2          |\n",
            "|    entropy_loss         | -2.62        |\n",
            "|    explained_variance   | 0.0114       |\n",
            "|    learning_rate        | 0.001        |\n",
            "|    loss                 | 2e+03        |\n",
            "|    n_updates            | 20           |\n",
            "|    policy_gradient_loss | -0.00119     |\n",
            "|    std                  | 1            |\n",
            "|    value_loss           | 5.33e+03     |\n",
            "------------------------------------------\n",
            "------------------------------------------\n",
            "| rollout/                |              |\n",
            "|    ep_len_mean          | 200          |\n",
            "|    ep_rew_mean          | -1.22e+03    |\n",
            "| time/                   |              |\n",
            "|    fps                  | 770          |\n",
            "|    iterations           | 4            |\n",
            "|    time_elapsed         | 10           |\n",
            "|    total_timesteps      | 8192         |\n",
            "| train/                  |              |\n",
            "|    approx_kl            | 0.0052746646 |\n",
            "|    clip_fraction        | 0.0257       |\n",
            "|    clip_range           | 0.2          |\n",
            "|    entropy_loss         | -2.64        |\n",
            "|    explained_variance   | 0.00305      |\n",
            "|    learning_rate        | 0.001        |\n",
            "|    loss                 | 1.67e+03     |\n",
            "|    n_updates            | 30           |\n",
            "|    policy_gradient_loss | -0.00483     |\n",
            "|    std                  | 0.971        |\n",
            "|    value_loss           | 4.2e+03      |\n",
            "------------------------------------------\n",
            "-----------------------------------------\n",
            "| rollout/                |             |\n",
            "|    ep_len_mean          | 200         |\n",
            "|    ep_rew_mean          | -1.2e+03    |\n",
            "| time/                   |             |\n",
            "|    fps                  | 752         |\n",
            "|    iterations           | 5           |\n",
            "|    time_elapsed         | 13          |\n",
            "|    total_timesteps      | 10240       |\n",
            "| train/                  |             |\n",
            "|    approx_kl            | 0.010769493 |\n",
            "|    clip_fraction        | 0.0706      |\n",
            "|    clip_range           | 0.2         |\n",
            "|    entropy_loss         | -2.6        |\n",
            "|    explained_variance   | 0.00162     |\n",
            "|    learning_rate        | 0.001       |\n",
            "|    loss                 | 927         |\n",
            "|    n_updates            | 40          |\n",
            "|    policy_gradient_loss | -0.00708    |\n",
            "|    std                  | 0.941       |\n",
            "|    value_loss           | 2.81e+03    |\n",
            "-----------------------------------------\n",
            "------------------------------------------\n",
            "| rollout/                |              |\n",
            "|    ep_len_mean          | 200          |\n",
            "|    ep_rew_mean          | -1.21e+03    |\n",
            "| time/                   |              |\n",
            "|    fps                  | 742          |\n",
            "|    iterations           | 6            |\n",
            "|    time_elapsed         | 16           |\n",
            "|    total_timesteps      | 12288        |\n",
            "| train/                  |              |\n",
            "|    approx_kl            | 0.0071482444 |\n",
            "|    clip_fraction        | 0.0727       |\n",
            "|    clip_range           | 0.2          |\n",
            "|    entropy_loss         | -2.56        |\n",
            "|    explained_variance   | 0.000705     |\n",
            "|    learning_rate        | 0.001        |\n",
            "|    loss                 | 725          |\n",
            "|    n_updates            | 50           |\n",
            "|    policy_gradient_loss | -0.00605     |\n",
            "|    std                  | 0.917        |\n",
            "|    value_loss           | 2.18e+03     |\n",
            "------------------------------------------\n",
            "-----------------------------------------\n",
            "| rollout/                |             |\n",
            "|    ep_len_mean          | 200         |\n",
            "|    ep_rew_mean          | -1.2e+03    |\n",
            "| time/                   |             |\n",
            "|    fps                  | 732         |\n",
            "|    iterations           | 7           |\n",
            "|    time_elapsed         | 19          |\n",
            "|    total_timesteps      | 14336       |\n",
            "| train/                  |             |\n",
            "|    approx_kl            | 0.010370789 |\n",
            "|    clip_fraction        | 0.108       |\n",
            "|    clip_range           | 0.2         |\n",
            "|    entropy_loss         | -2.48       |\n",
            "|    explained_variance   | 0.000382    |\n",
            "|    learning_rate        | 0.001       |\n",
            "|    loss                 | 822         |\n",
            "|    n_updates            | 60          |\n",
            "|    policy_gradient_loss | -0.00919    |\n",
            "|    std                  | 0.896       |\n",
            "|    value_loss           | 2.46e+03    |\n",
            "-----------------------------------------\n",
            "------------------------------------------\n",
            "| rollout/                |              |\n",
            "|    ep_len_mean          | 200          |\n",
            "|    ep_rew_mean          | -1.2e+03     |\n",
            "| time/                   |              |\n",
            "|    fps                  | 729          |\n",
            "|    iterations           | 8            |\n",
            "|    time_elapsed         | 22           |\n",
            "|    total_timesteps      | 16384        |\n",
            "| train/                  |              |\n",
            "|    approx_kl            | 0.0072919703 |\n",
            "|    clip_fraction        | 0.0872       |\n",
            "|    clip_range           | 0.2          |\n",
            "|    entropy_loss         | -2.49        |\n",
            "|    explained_variance   | 0.000339     |\n",
            "|    learning_rate        | 0.001        |\n",
            "|    loss                 | 496          |\n",
            "|    n_updates            | 70           |\n",
            "|    policy_gradient_loss | -0.00928     |\n",
            "|    std                  | 0.874        |\n",
            "|    value_loss           | 1.56e+03     |\n",
            "------------------------------------------\n",
            "----------------------------------------\n",
            "| rollout/                |            |\n",
            "|    ep_len_mean          | 200        |\n",
            "|    ep_rew_mean          | -1.2e+03   |\n",
            "| time/                   |            |\n",
            "|    fps                  | 720        |\n",
            "|    iterations           | 9          |\n",
            "|    time_elapsed         | 25         |\n",
            "|    total_timesteps      | 18432      |\n",
            "| train/                  |            |\n",
            "|    approx_kl            | 0.01022039 |\n",
            "|    clip_fraction        | 0.128      |\n",
            "|    clip_range           | 0.2        |\n",
            "|    entropy_loss         | -2.54      |\n",
            "|    explained_variance   | 0.000417   |\n",
            "|    learning_rate        | 0.001      |\n",
            "|    loss                 | 401        |\n",
            "|    n_updates            | 80         |\n",
            "|    policy_gradient_loss | -0.0123    |\n",
            "|    std                  | 0.849      |\n",
            "|    value_loss           | 1.12e+03   |\n",
            "----------------------------------------\n",
            "-----------------------------------------\n",
            "| rollout/                |             |\n",
            "|    ep_len_mean          | 200         |\n",
            "|    ep_rew_mean          | -1.2e+03    |\n",
            "| time/                   |             |\n",
            "|    fps                  | 719         |\n",
            "|    iterations           | 10          |\n",
            "|    time_elapsed         | 28          |\n",
            "|    total_timesteps      | 20480       |\n",
            "| train/                  |             |\n",
            "|    approx_kl            | 0.005423499 |\n",
            "|    clip_fraction        | 0.0458      |\n",
            "|    clip_range           | 0.2         |\n",
            "|    entropy_loss         | -2.48       |\n",
            "|    explained_variance   | 0.000366    |\n",
            "|    learning_rate        | 0.001       |\n",
            "|    loss                 | 349         |\n",
            "|    n_updates            | 90          |\n",
            "|    policy_gradient_loss | -0.00498    |\n",
            "|    std                  | 0.826       |\n",
            "|    value_loss           | 1.08e+03    |\n",
            "-----------------------------------------\n",
            "-----------------------------------------\n",
            "| rollout/                |             |\n",
            "|    ep_len_mean          | 200         |\n",
            "|    ep_rew_mean          | -1.18e+03   |\n",
            "| time/                   |             |\n",
            "|    fps                  | 717         |\n",
            "|    iterations           | 11          |\n",
            "|    time_elapsed         | 31          |\n",
            "|    total_timesteps      | 22528       |\n",
            "| train/                  |             |\n",
            "|    approx_kl            | 0.011260516 |\n",
            "|    clip_fraction        | 0.115       |\n",
            "|    clip_range           | 0.2         |\n",
            "|    entropy_loss         | -2.47       |\n",
            "|    explained_variance   | 0.00164     |\n",
            "|    learning_rate        | 0.001       |\n",
            "|    loss                 | 217         |\n",
            "|    n_updates            | 100         |\n",
            "|    policy_gradient_loss | -0.0117     |\n",
            "|    std                  | 0.78        |\n",
            "|    value_loss           | 675         |\n",
            "-----------------------------------------\n",
            "-----------------------------------------\n",
            "| rollout/                |             |\n",
            "|    ep_len_mean          | 200         |\n",
            "|    ep_rew_mean          | -1.16e+03   |\n",
            "| time/                   |             |\n",
            "|    fps                  | 715         |\n",
            "|    iterations           | 12          |\n",
            "|    time_elapsed         | 34          |\n",
            "|    total_timesteps      | 24576       |\n",
            "| train/                  |             |\n",
            "|    approx_kl            | 0.015778555 |\n",
            "|    clip_fraction        | 0.13        |\n",
            "|    clip_range           | 0.2         |\n",
            "|    entropy_loss         | -2.49       |\n",
            "|    explained_variance   | 0.354       |\n",
            "|    learning_rate        | 0.001       |\n",
            "|    loss                 | 136         |\n",
            "|    n_updates            | 110         |\n",
            "|    policy_gradient_loss | -0.023      |\n",
            "|    std                  | 0.732       |\n",
            "|    value_loss           | 379         |\n",
            "-----------------------------------------\n",
            "-----------------------------------------\n",
            "| rollout/                |             |\n",
            "|    ep_len_mean          | 200         |\n",
            "|    ep_rew_mean          | -1.12e+03   |\n",
            "| time/                   |             |\n",
            "|    fps                  | 713         |\n",
            "|    iterations           | 13          |\n",
            "|    time_elapsed         | 37          |\n",
            "|    total_timesteps      | 26624       |\n",
            "| train/                  |             |\n",
            "|    approx_kl            | 0.012619166 |\n",
            "|    clip_fraction        | 0.134       |\n",
            "|    clip_range           | 0.2         |\n",
            "|    entropy_loss         | -2.45       |\n",
            "|    explained_variance   | 0.51        |\n",
            "|    learning_rate        | 0.001       |\n",
            "|    loss                 | 94.7        |\n",
            "|    n_updates            | 120         |\n",
            "|    policy_gradient_loss | -0.0215     |\n",
            "|    std                  | 0.686       |\n",
            "|    value_loss           | 306         |\n",
            "-----------------------------------------\n",
            "----------------------------------------\n",
            "| rollout/                |            |\n",
            "|    ep_len_mean          | 200        |\n",
            "|    ep_rew_mean          | -1.11e+03  |\n",
            "| time/                   |            |\n",
            "|    fps                  | 712        |\n",
            "|    iterations           | 14         |\n",
            "|    time_elapsed         | 40         |\n",
            "|    total_timesteps      | 28672      |\n",
            "| train/                  |            |\n",
            "|    approx_kl            | 0.02087851 |\n",
            "|    clip_fraction        | 0.15       |\n",
            "|    clip_range           | 0.2        |\n",
            "|    entropy_loss         | -2.38      |\n",
            "|    explained_variance   | 0.688      |\n",
            "|    learning_rate        | 0.001      |\n",
            "|    loss                 | 66.5       |\n",
            "|    n_updates            | 130        |\n",
            "|    policy_gradient_loss | -0.0253    |\n",
            "|    std                  | 0.634      |\n",
            "|    value_loss           | 219        |\n",
            "----------------------------------------\n",
            "-----------------------------------------\n",
            "| rollout/                |             |\n",
            "|    ep_len_mean          | 200         |\n",
            "|    ep_rew_mean          | -1.08e+03   |\n",
            "| time/                   |             |\n",
            "|    fps                  | 710         |\n",
            "|    iterations           | 15          |\n",
            "|    time_elapsed         | 43          |\n",
            "|    total_timesteps      | 30720       |\n",
            "| train/                  |             |\n",
            "|    approx_kl            | 0.024073362 |\n",
            "|    clip_fraction        | 0.203       |\n",
            "|    clip_range           | 0.2         |\n",
            "|    entropy_loss         | -2.34       |\n",
            "|    explained_variance   | 0.736       |\n",
            "|    learning_rate        | 0.001       |\n",
            "|    loss                 | 86.9        |\n",
            "|    n_updates            | 140         |\n",
            "|    policy_gradient_loss | -0.027      |\n",
            "|    std                  | 0.595       |\n",
            "|    value_loss           | 229         |\n",
            "-----------------------------------------\n",
            "-----------------------------------------\n",
            "| rollout/                |             |\n",
            "|    ep_len_mean          | 200         |\n",
            "|    ep_rew_mean          | -1.03e+03   |\n",
            "| time/                   |             |\n",
            "|    fps                  | 709         |\n",
            "|    iterations           | 16          |\n",
            "|    time_elapsed         | 46          |\n",
            "|    total_timesteps      | 32768       |\n",
            "| train/                  |             |\n",
            "|    approx_kl            | 0.020038277 |\n",
            "|    clip_fraction        | 0.194       |\n",
            "|    clip_range           | 0.2         |\n",
            "|    entropy_loss         | -2.31       |\n",
            "|    explained_variance   | 0.752       |\n",
            "|    learning_rate        | 0.001       |\n",
            "|    loss                 | 81.5        |\n",
            "|    n_updates            | 150         |\n",
            "|    policy_gradient_loss | -0.0261     |\n",
            "|    std                  | 0.583       |\n",
            "|    value_loss           | 224         |\n",
            "-----------------------------------------\n",
            "-----------------------------------------\n",
            "| rollout/                |             |\n",
            "|    ep_len_mean          | 200         |\n",
            "|    ep_rew_mean          | -986        |\n",
            "| time/                   |             |\n",
            "|    fps                  | 708         |\n",
            "|    iterations           | 17          |\n",
            "|    time_elapsed         | 49          |\n",
            "|    total_timesteps      | 34816       |\n",
            "| train/                  |             |\n",
            "|    approx_kl            | 0.017380306 |\n",
            "|    clip_fraction        | 0.141       |\n",
            "|    clip_range           | 0.2         |\n",
            "|    entropy_loss         | -2.25       |\n",
            "|    explained_variance   | 0.784       |\n",
            "|    learning_rate        | 0.001       |\n",
            "|    loss                 | 138         |\n",
            "|    n_updates            | 160         |\n",
            "|    policy_gradient_loss | -0.0254     |\n",
            "|    std                  | 0.55        |\n",
            "|    value_loss           | 250         |\n",
            "-----------------------------------------\n",
            "-----------------------------------------\n",
            "| rollout/                |             |\n",
            "|    ep_len_mean          | 200         |\n",
            "|    ep_rew_mean          | -926        |\n",
            "| time/                   |             |\n",
            "|    fps                  | 706         |\n",
            "|    iterations           | 18          |\n",
            "|    time_elapsed         | 52          |\n",
            "|    total_timesteps      | 36864       |\n",
            "| train/                  |             |\n",
            "|    approx_kl            | 0.028173883 |\n",
            "|    clip_fraction        | 0.188       |\n",
            "|    clip_range           | 0.2         |\n",
            "|    entropy_loss         | -2.18       |\n",
            "|    explained_variance   | 0.788       |\n",
            "|    learning_rate        | 0.001       |\n",
            "|    loss                 | 103         |\n",
            "|    n_updates            | 170         |\n",
            "|    policy_gradient_loss | -0.0281     |\n",
            "|    std                  | 0.521       |\n",
            "|    value_loss           | 263         |\n",
            "-----------------------------------------\n",
            "---------------------------------------\n",
            "| rollout/                |           |\n",
            "|    ep_len_mean          | 200       |\n",
            "|    ep_rew_mean          | -858      |\n",
            "| time/                   |           |\n",
            "|    fps                  | 705       |\n",
            "|    iterations           | 19        |\n",
            "|    time_elapsed         | 55        |\n",
            "|    total_timesteps      | 38912     |\n",
            "| train/                  |           |\n",
            "|    approx_kl            | 0.0185116 |\n",
            "|    clip_fraction        | 0.167     |\n",
            "|    clip_range           | 0.2       |\n",
            "|    entropy_loss         | -2.01     |\n",
            "|    explained_variance   | 0.834     |\n",
            "|    learning_rate        | 0.001     |\n",
            "|    loss                 | 173       |\n",
            "|    n_updates            | 180       |\n",
            "|    policy_gradient_loss | -0.0192   |\n",
            "|    std                  | 0.501     |\n",
            "|    value_loss           | 295       |\n",
            "---------------------------------------\n",
            "-----------------------------------------\n",
            "| rollout/                |             |\n",
            "|    ep_len_mean          | 200         |\n",
            "|    ep_rew_mean          | -790        |\n",
            "| time/                   |             |\n",
            "|    fps                  | 704         |\n",
            "|    iterations           | 20          |\n",
            "|    time_elapsed         | 58          |\n",
            "|    total_timesteps      | 40960       |\n",
            "| train/                  |             |\n",
            "|    approx_kl            | 0.019785734 |\n",
            "|    clip_fraction        | 0.17        |\n",
            "|    clip_range           | 0.2         |\n",
            "|    entropy_loss         | -1.96       |\n",
            "|    explained_variance   | 0.856       |\n",
            "|    learning_rate        | 0.001       |\n",
            "|    loss                 | 186         |\n",
            "|    n_updates            | 190         |\n",
            "|    policy_gradient_loss | -0.0197     |\n",
            "|    std                  | 0.482       |\n",
            "|    value_loss           | 348         |\n",
            "-----------------------------------------\n",
            "-----------------------------------------\n",
            "| rollout/                |             |\n",
            "|    ep_len_mean          | 200         |\n",
            "|    ep_rew_mean          | -705        |\n",
            "| time/                   |             |\n",
            "|    fps                  | 703         |\n",
            "|    iterations           | 21          |\n",
            "|    time_elapsed         | 61          |\n",
            "|    total_timesteps      | 43008       |\n",
            "| train/                  |             |\n",
            "|    approx_kl            | 0.029410647 |\n",
            "|    clip_fraction        | 0.19        |\n",
            "|    clip_range           | 0.2         |\n",
            "|    entropy_loss         | -1.74       |\n",
            "|    explained_variance   | 0.888       |\n",
            "|    learning_rate        | 0.001       |\n",
            "|    loss                 | 110         |\n",
            "|    n_updates            | 200         |\n",
            "|    policy_gradient_loss | -0.0172     |\n",
            "|    std                  | 0.448       |\n",
            "|    value_loss           | 265         |\n",
            "-----------------------------------------\n",
            "----------------------------------------\n",
            "| rollout/                |            |\n",
            "|    ep_len_mean          | 200        |\n",
            "|    ep_rew_mean          | -634       |\n",
            "| time/                   |            |\n",
            "|    fps                  | 702        |\n",
            "|    iterations           | 22         |\n",
            "|    time_elapsed         | 64         |\n",
            "|    total_timesteps      | 45056      |\n",
            "| train/                  |            |\n",
            "|    approx_kl            | 0.01261672 |\n",
            "|    clip_fraction        | 0.18       |\n",
            "|    clip_range           | 0.2        |\n",
            "|    entropy_loss         | -1.56      |\n",
            "|    explained_variance   | 0.909      |\n",
            "|    learning_rate        | 0.001      |\n",
            "|    loss                 | 89.9       |\n",
            "|    n_updates            | 210        |\n",
            "|    policy_gradient_loss | -0.0124    |\n",
            "|    std                  | 0.438      |\n",
            "|    value_loss           | 202        |\n",
            "----------------------------------------\n",
            "----------------------------------------\n",
            "| rollout/                |            |\n",
            "|    ep_len_mean          | 200        |\n",
            "|    ep_rew_mean          | -577       |\n",
            "| time/                   |            |\n",
            "|    fps                  | 702        |\n",
            "|    iterations           | 23         |\n",
            "|    time_elapsed         | 67         |\n",
            "|    total_timesteps      | 47104      |\n",
            "| train/                  |            |\n",
            "|    approx_kl            | 0.01748645 |\n",
            "|    clip_fraction        | 0.218      |\n",
            "|    clip_range           | 0.2        |\n",
            "|    entropy_loss         | -1.58      |\n",
            "|    explained_variance   | 0.92       |\n",
            "|    learning_rate        | 0.001      |\n",
            "|    loss                 | 128        |\n",
            "|    n_updates            | 220        |\n",
            "|    policy_gradient_loss | -0.0248    |\n",
            "|    std                  | 0.426      |\n",
            "|    value_loss           | 207        |\n",
            "----------------------------------------\n",
            "-----------------------------------------\n",
            "| rollout/                |             |\n",
            "|    ep_len_mean          | 200         |\n",
            "|    ep_rew_mean          | -508        |\n",
            "| time/                   |             |\n",
            "|    fps                  | 702         |\n",
            "|    iterations           | 24          |\n",
            "|    time_elapsed         | 69          |\n",
            "|    total_timesteps      | 49152       |\n",
            "| train/                  |             |\n",
            "|    approx_kl            | 0.022173628 |\n",
            "|    clip_fraction        | 0.206       |\n",
            "|    clip_range           | 0.2         |\n",
            "|    entropy_loss         | -1.66       |\n",
            "|    explained_variance   | 0.875       |\n",
            "|    learning_rate        | 0.001       |\n",
            "|    loss                 | 119         |\n",
            "|    n_updates            | 230         |\n",
            "|    policy_gradient_loss | -0.021      |\n",
            "|    std                  | 0.406       |\n",
            "|    value_loss           | 338         |\n",
            "-----------------------------------------\n",
            "-----------------------------------------\n",
            "| rollout/                |             |\n",
            "|    ep_len_mean          | 200         |\n",
            "|    ep_rew_mean          | -443        |\n",
            "| time/                   |             |\n",
            "|    fps                  | 701         |\n",
            "|    iterations           | 25          |\n",
            "|    time_elapsed         | 72          |\n",
            "|    total_timesteps      | 51200       |\n",
            "| train/                  |             |\n",
            "|    approx_kl            | 0.024909995 |\n",
            "|    clip_fraction        | 0.276       |\n",
            "|    clip_range           | 0.2         |\n",
            "|    entropy_loss         | -1.42       |\n",
            "|    explained_variance   | 0.933       |\n",
            "|    learning_rate        | 0.001       |\n",
            "|    loss                 | 52.5        |\n",
            "|    n_updates            | 240         |\n",
            "|    policy_gradient_loss | 0.00138     |\n",
            "|    std                  | 0.394       |\n",
            "|    value_loss           | 124         |\n",
            "-----------------------------------------\n"
          ]
        },
        {
          "output_type": "execute_result",
          "data": {
            "text/plain": [
              "<stable_baselines3.ppo.ppo.PPO at 0x7ff8cae404d0>"
            ]
          },
          "metadata": {},
          "execution_count": 38
        }
      ],
      "source": [
        "# Train the agent for 50 000 steps\n",
        "model.learn(total_timesteps=50_000)"
      ]
    },
    {
      "cell_type": "code",
      "execution_count": 39,
      "metadata": {
        "id": "ygl_gVmV_QP7",
        "vscode": {
          "languageId": "python"
        },
        "colab": {
          "base_uri": "https://localhost:8080/"
        },
        "outputId": "041c0cff-1ddf-45bd-a3ee-6c50a9888556"
      },
      "outputs": [
        {
          "output_type": "stream",
          "name": "stdout",
          "text": [
            "mean_reward:-145.74 +/- 98.83\n"
          ]
        }
      ],
      "source": [
        "# Evaluate the trained agent\n",
        "mean_reward, std_reward = evaluate_policy(model, env, n_eval_episodes=20)\n",
        "\n",
        "print(f\"mean_reward:{mean_reward:.2f} +/- {std_reward:.2f}\")"
      ]
    },
    {
      "cell_type": "markdown",
      "metadata": {
        "id": "A00W6yY3NkHG"
      },
      "source": [
        "Apparently the training went well, the mean reward increased a lot! "
      ]
    },
    {
      "cell_type": "markdown",
      "metadata": {
        "id": "xVm9QPNVwKXN"
      },
      "source": [
        "### Prepare video recording"
      ]
    },
    {
      "cell_type": "code",
      "execution_count": 40,
      "metadata": {
        "id": "MPyfQxD5z26J",
        "vscode": {
          "languageId": "python"
        }
      },
      "outputs": [],
      "source": [
        "# Set up fake display; otherwise rendering will fail\n",
        "import os\n",
        "os.system(\"Xvfb :1 -screen 0 1024x768x24 &\")\n",
        "os.environ['DISPLAY'] = ':1'"
      ]
    },
    {
      "cell_type": "code",
      "execution_count": 41,
      "metadata": {
        "id": "SLzXxO8VMD6N",
        "vscode": {
          "languageId": "python"
        }
      },
      "outputs": [],
      "source": [
        "import base64\n",
        "from pathlib import Path\n",
        "\n",
        "from IPython import display as ipythondisplay\n",
        "\n",
        "def show_videos(video_path='', prefix=''):\n",
        "  \"\"\"\n",
        "  Taken from https://github.com/eleurent/highway-env\n",
        "\n",
        "  :param video_path: (str) Path to the folder containing videos\n",
        "  :param prefix: (str) Filter the video, showing only the only starting with this prefix\n",
        "  \"\"\"\n",
        "  html = []\n",
        "  for mp4 in Path(video_path).glob(\"{}*.mp4\".format(prefix)):\n",
        "      video_b64 = base64.b64encode(mp4.read_bytes())\n",
        "      html.append('''<video alt=\"{}\" autoplay \n",
        "                    loop controls style=\"height: 400px;\">\n",
        "                    <source src=\"data:video/mp4;base64,{}\" type=\"video/mp4\" />\n",
        "                </video>'''.format(mp4, video_b64.decode('ascii')))\n",
        "  ipythondisplay.display(ipythondisplay.HTML(data=\"<br>\".join(html)))"
      ]
    },
    {
      "cell_type": "markdown",
      "metadata": {
        "id": "LTRNUfulOGaF"
      },
      "source": [
        "We will record a video using the [VecVideoRecorder](https://stable-baselines3.readthedocs.io/en/master/guide/vec_envs.html#vecvideorecorder) wrapper, you can learn more about those wrappers in our Documentation."
      ]
    },
    {
      "cell_type": "code",
      "execution_count": 42,
      "metadata": {
        "id": "Trag9dQpOIhx",
        "vscode": {
          "languageId": "python"
        }
      },
      "outputs": [],
      "source": [
        "from stable_baselines3.common.vec_env import VecVideoRecorder, DummyVecEnv\n",
        "\n",
        "def record_video(env_id, model, video_length=500, prefix='', video_folder='videos/'):\n",
        "  \"\"\"\n",
        "  :param env_id: (str)\n",
        "  :param model: (RL model)\n",
        "  :param video_length: (int)\n",
        "  :param prefix: (str)\n",
        "  :param video_folder: (str)\n",
        "  \"\"\"\n",
        "  eval_env = DummyVecEnv([lambda: gym.make(env_id)])\n",
        "  # Start the video at step=0 and record 500 steps\n",
        "  eval_env = VecVideoRecorder(eval_env, video_folder=video_folder,\n",
        "                              record_video_trigger=lambda step: step == 0, video_length=video_length,\n",
        "                              name_prefix=prefix)\n",
        "\n",
        "  obs = eval_env.reset()\n",
        "  for _ in range(video_length):\n",
        "    action, _ = model.predict(obs, deterministic=True)\n",
        "    obs, _, _, _ = eval_env.step(action)\n",
        "\n",
        "  # Close the video recorder\n",
        "  eval_env.close()"
      ]
    },
    {
      "cell_type": "markdown",
      "metadata": {
        "id": "KOObbeu5MMlR"
      },
      "source": [
        "### Visualize trained agent\n",
        "\n"
      ]
    },
    {
      "cell_type": "code",
      "execution_count": 43,
      "metadata": {
        "id": "iATu7AiyMQW2",
        "vscode": {
          "languageId": "python"
        },
        "colab": {
          "base_uri": "https://localhost:8080/"
        },
        "outputId": "83876b64-077d-4846-9d87-08fd8166c74a"
      },
      "outputs": [
        {
          "output_type": "stream",
          "name": "stdout",
          "text": [
            "Saving video to /content/videos/ppo-pendulum-step-0-to-step-500.mp4\n"
          ]
        }
      ],
      "source": [
        "record_video('Pendulum-v1', model, video_length=500, prefix='ppo-pendulum')"
      ]
    },
    {
      "cell_type": "code",
      "execution_count": 44,
      "metadata": {
        "id": "-n4i-fW3NojZ",
        "vscode": {
          "languageId": "python"
        },
        "colab": {
          "base_uri": "https://localhost:8080/",
          "height": 420
        },
        "outputId": "857b5d98-eb3a-4196-970d-9117e22c6cd9"
      },
      "outputs": [
        {
          "output_type": "display_data",
          "data": {
            "text/plain": [
              "<IPython.core.display.HTML object>"
            ],
            "text/html": [
              "<video alt=\"videos/ppo-pendulum-step-0-to-step-500.mp4\" autoplay \n",
              "                    loop controls style=\"height: 400px;\">\n",
              "                    <source src=\"data:video/mp4;base64,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\" type=\"video/mp4\" />\n",
              "                </video>"
            ]
          },
          "metadata": {}
        }
      ],
      "source": [
        "show_videos('videos', prefix='ppo')"
      ]
    },
    {
      "cell_type": "markdown",
      "metadata": {
        "id": "z5WHto5hNaZN"
      },
      "source": [
        "### [Optional] Exercise (5 minutes): Save, Load The Model and that the loading was correct\n",
        "\n",
        "Save the model and then load it.\n",
        "\n",
        "Don't forget to check that loading went well: the model must predict the same actions given the same  observations."
      ]
    },
    {
      "cell_type": "code",
      "execution_count": null,
      "metadata": {
        "id": "vCcS6wJ6Nurd",
        "vscode": {
          "languageId": "python"
        }
      },
      "outputs": [],
      "source": [
        "# Sample observations using the environment observation space\n",
        "\n",
        "# Predict actions on those observations using trained model\n"
      ]
    },
    {
      "cell_type": "code",
      "execution_count": null,
      "metadata": {
        "id": "BWCUZSD7NZ_Y",
        "vscode": {
          "languageId": "python"
        }
      },
      "outputs": [],
      "source": [
        "# Save the model\n"
      ]
    },
    {
      "cell_type": "code",
      "execution_count": null,
      "metadata": {
        "id": "g2M1S_-V2gMi",
        "vscode": {
          "languageId": "python"
        }
      },
      "outputs": [],
      "source": [
        "# Delete the model (to demonstrate loading)\n",
        "del model"
      ]
    },
    {
      "cell_type": "code",
      "execution_count": null,
      "metadata": {
        "colab": {
          "base_uri": "https://localhost:8080/"
        },
        "id": "5Ne1MlIiNpee",
        "outputId": "0350fd76-db7b-4943-c7e1-9bfa9a4c7ddd",
        "vscode": {
          "languageId": "python"
        }
      },
      "outputs": [
        {
          "name": "stdout",
          "output_type": "stream",
          "text": [
            "ppo_cartpole.zip\n"
          ]
        }
      ],
      "source": [
        "!ls *.zip"
      ]
    },
    {
      "cell_type": "code",
      "execution_count": null,
      "metadata": {
        "id": "55G-6nJLNrPk",
        "vscode": {
          "languageId": "python"
        }
      },
      "outputs": [],
      "source": [
        "# Load the model\n"
      ]
    },
    {
      "cell_type": "code",
      "execution_count": null,
      "metadata": {
        "id": "KIWII5YxNtrI",
        "vscode": {
          "languageId": "python"
        }
      },
      "outputs": [],
      "source": [
        "# Predict actions on the observations with the loaded model\n"
      ]
    },
    {
      "cell_type": "code",
      "execution_count": null,
      "metadata": {
        "id": "m06ipphZN_0E",
        "vscode": {
          "languageId": "python"
        }
      },
      "outputs": [],
      "source": [
        "# Check that the predictions are the same\n",
        "assert np.allclose(action_before_saving, action_after_loading), \"Somethng went wrong in the loading\""
      ]
    },
    {
      "cell_type": "markdown",
      "metadata": {
        "id": "9Y8zg4V566qD"
      },
      "source": [
        "## Bonus: Train a RL Model in One Line\n",
        "\n",
        "The policy class to use will be inferred and the environment will be automatically created. This works because both are [registered](https://stable-baselines3.readthedocs.io/en/master/guide/quickstart.html)."
      ]
    },
    {
      "cell_type": "code",
      "execution_count": null,
      "metadata": {
        "id": "iaOPfOrwWEP4",
        "vscode": {
          "languageId": "python"
        }
      },
      "outputs": [],
      "source": [
        "model = PPO('MlpPolicy', \"CartPole-v1\", verbose=1).learn(1000)"
      ]
    },
    {
      "cell_type": "markdown",
      "metadata": {
        "id": "Fm4RncfCJFyP"
      },
      "source": [
        "# Part II: Gym Wrappers\n",
        "\n",
        "\n",
        "In this part, you will learn how to use *Gym Wrappers* which allow to do monitoring, normalization, limit the number of steps, feature augmentation, ...\n"
      ]
    },
    {
      "cell_type": "markdown",
      "metadata": {
        "id": "ds4AAfmISQIA"
      },
      "source": [
        "## Anatomy of a gym wrapper"
      ]
    },
    {
      "cell_type": "markdown",
      "metadata": {
        "id": "gnTS9e9hTzZZ"
      },
      "source": [
        "A gym wrapper follows the [gym](https://stable-baselines.readthedocs.io/en/master/guide/custom_env.html) interface: it has a `reset()` and `step()` method.\n",
        "\n",
        "Because a wrapper is *around* an environment, we can access it with `self.env`, this allow to easily interact with it without modifying the original env.\n",
        "There are many wrappers that have been predefined, for a complete list refer to [gym documentation](https://github.com/openai/gym/tree/master/gym/wrappers)"
      ]
    },
    {
      "cell_type": "code",
      "execution_count": null,
      "metadata": {
        "id": "hYo0C0TQSL3c",
        "vscode": {
          "languageId": "python"
        }
      },
      "outputs": [],
      "source": [
        "class CustomWrapper(gym.Wrapper):\n",
        "  \"\"\"\n",
        "  :param env:  Gym environment that will be wrapped\n",
        "  \"\"\"\n",
        "  def __init__(self, env: gym.Env):\n",
        "    # Call the parent constructor, so we can access self.env later\n",
        "    super().__init__(env)\n",
        "  \n",
        "  def reset(self):\n",
        "    \"\"\"\n",
        "    Reset the environment \n",
        "    \"\"\"\n",
        "    obs = self.env.reset()\n",
        "    return obs\n",
        "\n",
        "  def step(self, action):\n",
        "    \"\"\"\n",
        "    :param action: ([float] or int) Action taken by the agent\n",
        "    :return: (np.ndarray, float, bool, dict) observation, reward, is the episode over?, additional informations\n",
        "    \"\"\"\n",
        "    obs, reward, done, infos = self.env.step(action)\n",
        "    return obs, reward, done, infos\n"
      ]
    },
    {
      "cell_type": "markdown",
      "metadata": {
        "id": "u7RkTLshPMGq"
      },
      "source": [
        "### [Optional] Exercise (7 minutes): limit the episode length\n",
        "\n",
        "In this exercise, the goal is to create a Gym wrapper that will limit the maximum number of steps per episode (timeout).\n",
        "\n",
        "\n",
        "It will also pass a `timeout` signal in the info dict to tell the agent that the termination was due to reaching the limits.\n",
        "\n",
        "Termination due to timeout must be handled separately (see [Time Limit in RL paper](https://arxiv.org/abs/1712.00378)), you can also take a look at [Issue #284](https://github.com/DLR-RM/stable-baselines3/issues/284) and [Issue #633](https://github.com/DLR-RM/stable-baselines3/issues/633)."
      ]
    },
    {
      "cell_type": "code",
      "execution_count": null,
      "metadata": {
        "id": "4h_ypIxgPLGL",
        "vscode": {
          "languageId": "python"
        }
      },
      "outputs": [],
      "source": [
        "class TimeLimitWrapper(gym.Wrapper):\n",
        "  \"\"\"\n",
        "  Limit the maximum number of steps per episode.\n",
        "\n",
        "  :param env: Gym environment that will be wrapped\n",
        "  :param max_steps: Max number of steps per episode\n",
        "  \"\"\"\n",
        "  def __init__(self, env: gym.Env, max_steps: int = 100):\n",
        "    # Call the parent constructor, so we can access self.env later\n",
        "    super().__init__(env)\n",
        "    self.max_steps = max_steps\n",
        "    # YOUR CODE HERE\n",
        "    # Counter of steps per episode\n",
        "\n",
        "    # END OF YOUR CODE\n",
        "  \n",
        "  def reset(self) -> GymObs:\n",
        "    # YOUR CODE HERE\n",
        "    # TODO: reset the counter and reset the env\n",
        "\n",
        "    # END OF YOUR CODE\n",
        "    return obs\n",
        "\n",
        "  def step(self, action: Union[int, np.ndarray]) -> Tuple[GymObs, float, bool, Dict]:\n",
        "    # YOUR CODE HERE\n",
        "    # TODO: \n",
        "    # 1. Step into the env\n",
        "    # 2. Increment the episode counter\n",
        "    # 3. Overwrite the done signal when time limit is reached \n",
        "    # (optional) 4. update the info dict (add a \"episode_timeout\" key)\n",
        "    # when the episode was stopped due to timelimit\n",
        "\n",
        "    # END OF YOUR CODE\n",
        "    return obs, reward, done, infos"
      ]
    },
    {
      "cell_type": "markdown",
      "metadata": {
        "id": "7FQptLSuPB3A"
      },
      "source": [
        "#### Test the wrapper"
      ]
    },
    {
      "cell_type": "code",
      "execution_count": null,
      "metadata": {
        "id": "szZ43D5PVB07",
        "vscode": {
          "languageId": "python"
        }
      },
      "outputs": [],
      "source": [
        "from gym.envs.classic_control.pendulum import PendulumEnv\n",
        "\n",
        "# Here we create the environment directly because gym.make() already wrap the environement in a TimeLimit wrapper otherwise\n",
        "env = PendulumEnv()\n",
        "# Wrap the environment\n",
        "env = TimeLimitWrapper(env, max_steps=100)"
      ]
    },
    {
      "cell_type": "code",
      "execution_count": null,
      "metadata": {
        "colab": {
          "base_uri": "https://localhost:8080/"
        },
        "id": "cencka9iVg9V",
        "outputId": "01ddfdb8-be4c-4df9-e052-d4a54666419e",
        "vscode": {
          "languageId": "python"
        }
      },
      "outputs": [
        {
          "name": "stdout",
          "output_type": "stream",
          "text": [
            "Episode length: 100 steps, info dict: {'episode_timeout': True}\n"
          ]
        }
      ],
      "source": [
        "obs = env.reset()\n",
        "done = False\n",
        "n_steps = 0\n",
        "while not done:\n",
        "  # Take random actions\n",
        "  random_action = env.action_space.sample()\n",
        "  obs, reward, done, infos = env.step(random_action)\n",
        "  n_steps += 1\n",
        "\n",
        "print(f\"Episode length: {n_steps} steps, info dict: {infos}\")"
      ]
    },
    {
      "cell_type": "markdown",
      "metadata": {
        "id": "jkMYA63sV9aA"
      },
      "source": [
        "In practice, `gym` already have a wrapper for that named `TimeLimit` (`gym.wrappers.TimeLimit`) that is used by most environments."
      ]
    },
    {
      "cell_type": "markdown",
      "metadata": {
        "id": "7yUeYnfJVpB2"
      },
      "source": [
        "# Conclusion\n",
        "\n",
        "What we have seen in this notebook:\n",
        "- SB3 101\n",
        "- Gym wrappers to modify the env\n",
        "- more complete tutorial: https://github.com/araffin/rl-tutorial-jnrr19\n",
        "- longer hands-on session: https://www.youtube.com/watch?v=Ikngt0_DXJg\n",
        "\n"
      ]
    },
    {
      "cell_type": "code",
      "execution_count": null,
      "metadata": {
        "id": "3-gqIPXqV7zZ",
        "vscode": {
          "languageId": "python"
        }
      },
      "outputs": [],
      "source": [
        ""
      ]
    }
  ],
  "metadata": {
    "colab": {
      "collapsed_sections": [],
      "name": "icra22_hands_on_sb3.ipynb",
      "provenance": [],
      "include_colab_link": true
    },
    "kernelspec": {
      "display_name": "Python 3",
      "name": "python3"
    }
  },
  "nbformat": 4,
  "nbformat_minor": 0
}